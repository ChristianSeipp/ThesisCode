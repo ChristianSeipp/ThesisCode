{
 "cells": [
  {
   "cell_type": "code",
   "execution_count": 8,
   "metadata": {
    "collapsed": false
   },
   "outputs": [],
   "source": [
    "from numba import cuda, vectorize, guvectorize\n",
    "from numba import void, uint8 , uint32, uint64, int32, int64, float32, float64, f8\n",
    "import numpy as np"
   ]
  },
  {
   "cell_type": "code",
   "execution_count": 9,
   "metadata": {
    "collapsed": true
   },
   "outputs": [],
   "source": [
    "device = cuda.get_current_device()\n",
    "\n",
    "n = 100\n",
    "\n",
    "# Host memory\n",
    "a = np.arange(n, dtype=np.float32)\n",
    "b = np.arange(n, dtype=np.float32)\n",
    "\n",
    "# Assign equivalent storage on device\n",
    "da = cuda.to_device(a)\n",
    "db = cuda.to_device(b)\n",
    "\n",
    "# Assign storage on device for output\n",
    "dc = cuda.device_array_like(a)\n",
    "\n",
    "# Set up enough threads for kernel\n",
    "tpb = device.WARP_SIZE"
   ]
  },
  {
   "cell_type": "code",
   "execution_count": 15,
   "metadata": {
    "collapsed": false
   },
   "outputs": [],
   "source": [
    "@cuda.jit('void(float32[:],float32,float32,float32,float32,float32[:],float32[:] ,float32[:], uint64)',device = True)\n",
    "def calcLocalContribution(uvals,P,Q,R,vjsqrinv,quadCoeffs,JLvals,JRvals,JSize):\n",
    "        #do a finite difference stencil for the second derivative at every point\n",
    "        #in our mesh. do a 4 point stencil at the ends to preserve accuracy\n",
    "        for i in range(size):\n",
    "            if i != 0 and i != (size-1):\n",
    "                quadCoeffs.append((uvals[i-1] - 2*uvals[i] + uvals[i+1])*1/self.vj_**2 )\n",
    "            elif i == 0:\n",
    "                quadCoeffs.append((2*uvals[0] - 5*uvals[1] + 4*uvals[2] - uvals[3])*1/self.vj_**2 )\n",
    "            else:\n",
    "                quadCoeffs.append((2*uvals[-1] - 5*uvals[-2] +4*uvals[-3] - uvals[-4])*1/self.vj_**2)\n",
    "            #evaluate the polynomial integral for each J between 0 and N.\n",
    "        for j in range(size):\n",
    "\n",
    "            if j != 0:\n",
    "                #recursive formula to update the value of J\n",
    "                JLcurr  = self.P_*uvals[j] + self.Q_*uvals[j-1] + quadCoeffs[j]*self.R_\n",
    "                JLval.append( self.dj_*JLval[j-1] + JLcurr )\n",
    "\n",
    "            if j != size-1:\n",
    "                JRreverse = self.P_*uvals[-(j+2)]+self.Q_*uvals[ -(j+1) ] + self.R_*quadCoeffs[-(j+2)] \n",
    "                JRval.append(self.dj_*JRval[j] + JRreverse)\n",
    "        JRval.reverse()\n",
    "        self.w_ = [JLval[i]+JRval[i]  for i in range(size)]\n",
    "        return self.reportEndPoints()"
   ]
  },
  {
   "cell_type": "code",
   "execution_count": null,
   "metadata": {
    "collapsed": true
   },
   "outputs": [],
   "source": []
  },
  {
   "cell_type": "code",
   "execution_count": null,
   "metadata": {
    "collapsed": true
   },
   "outputs": [],
   "source": []
  }
 ],
 "metadata": {
  "kernelspec": {
   "display_name": "Python [conda root]",
   "language": "python",
   "name": "conda-root-py"
  }
 },
 "nbformat": 4,
 "nbformat_minor": 1
}
